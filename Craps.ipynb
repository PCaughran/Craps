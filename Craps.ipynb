{
 "cells": [
  {
   "cell_type": "code",
   "execution_count": 155,
   "id": "9b6c07ee",
   "metadata": {},
   "outputs": [],
   "source": [
    "import numpy as np\n",
    "import matplotlib.pyplot as plt\n",
    "from random import randint\n",
    "NUM_ROLLS = 100_000"
   ]
  },
  {
   "cell_type": "code",
   "execution_count": 156,
   "id": "fa1f9293",
   "metadata": {},
   "outputs": [],
   "source": [
    "def roll():\n",
    "    '''function to simulate the roll of 2 cube dice,\n",
    "        returns a tuple of the two faces, range 1-6'''\n",
    "    return [randint(1,6) + randint(1,6) for i in range(NUM_ROLLS)]\n",
    "\n",
    "trial_rolls = roll()"
   ]
  },
  {
   "cell_type": "markdown",
   "id": "ea1a3920",
   "metadata": {},
   "source": [
    "We roll 2 dice 1 million times, so as to have the law of large numbers work out any 'hot' or 'cold' streaks. We want to compare strategies against the same rolls of the dice, so that there are no potential biases based on statistically odd outcomes. We will compare a number of different strategies and by doing so, hope to find the most effective one. We can define effective as making the most profit."
   ]
  },
  {
   "cell_type": "code",
   "execution_count": 157,
   "id": "2a40e77e",
   "metadata": {},
   "outputs": [
    {
     "name": "stdout",
     "output_type": "stream",
     "text": [
      "[2782, 5533, 8439, 11080, 13593, 16808, 13881, 11149, 8409, 5494, 2832]\n"
     ]
    },
    {
     "data": {
      "text/plain": [
       "'a simple histogram, showing that there are no oddities in the frequencies of certain rolls, and this is establishing that the number of rolls done are usable for this experiment'"
      ]
     },
     "execution_count": 157,
     "metadata": {},
     "output_type": "execute_result"
    },
    {
     "data": {
      "image/png": "[encoded data removed]",
      "text/plain": [
       "<Figure size 432x288 with 1 Axes>"
      ]
     },
     "metadata": {
      "needs_background": "light"
     },
     "output_type": "display_data"
    }
   ],
   "source": [
    "#results to hold the results of the trial to demonstrate that the dice rolls will follow a generally random distribution\n",
    "results = [0 for i in range(11)]\n",
    "\n",
    "#do 1 million rolls to remove any oddities through the law of large numbers\n",
    "for i in trial_rolls:\n",
    "    #since the outcomes of 2 cube dice is [2,12], we want to make sure that the 11 outcomes are stored in the correct spots\n",
    "    results[i-2] += 1\n",
    "\n",
    "#display the outcomes\n",
    "print(results)\n",
    "#show the histogram\n",
    "plt.bar(np.linspace(2,12,11),results)\n",
    "'''a simple histogram, showing that there are no oddities in the frequencies of certain rolls, and this is establishing that the number of rolls done are usable for this experiment'''"
   ]
  },
  {
   "cell_type": "markdown",
   "id": "9ea569fd",
   "metadata": {},
   "source": [
    "Our first strategy to look at is simply betting the PASS-LINE bet. This bet will immediately pay 1:1 when the dice come up with either a 7 or an 11. This bet will lose when a 2, 3, or 12 are rolled. should any (4, 5, 6, 8, 9, 10) be rolled, that value will now become the point. The goal now is to roll dice so as to get the point-value again, which causes the bet to pay 1:1. Should a 7 be rolled, the bet loses. Any other numbers have no effect on the PASS-LINE bet.  \n",
    "\n",
    "Throughout, we will be using a bankroll that is shown to be starting at 100. This is representative of 100 units of betting. For example, if your standard bet is 5.00 dollars , then 100 units would be 500.00 dollars. The goal of this is to make any strategy standardized and not fall into the trap of bet big, win big thinking."
   ]
  },
  {
   "cell_type": "code",
   "execution_count": 158,
   "id": "77ac5aa6",
   "metadata": {},
   "outputs": [],
   "source": [
    "'''Basic Implementation of the Pass-Line betting strategy'''\n",
    "\n",
    "pass_bankroll = [100]\n",
    "i = 0\n",
    "while(i < len(trial_rolls)):\n",
    "    outcome = trial_rolls[i]\n",
    "    i+=1\n",
    "    #see if we got lucky on the come out\n",
    "    if outcome == 7 or outcome == 11:\n",
    "        pass_bankroll.append(pass_bankroll[-1]+1)\n",
    "        continue\n",
    "    #check unlucky\n",
    "    elif outcome == 2 or outcome == 3 or outcome == 12:\n",
    "        pass_bankroll.append(pass_bankroll[-1]-1)\n",
    "        continue\n",
    "    #else establish the point\n",
    "    else:\n",
    "        point = outcome\n",
    "        while True:\n",
    "            #just to avoid the case of running out of trial rolls, we will supplement them with ones generated here. this\n",
    "            #will only play a minor impact on the very last rolls, not more than 20 rolls. \n",
    "            if i >= len(trial_rolls):\n",
    "                outcome = sum((randint(1,6), randint(1,6)))\n",
    "            else:\n",
    "                outcome = trial_rolls[i]\n",
    "                i+=1\n",
    "                \n",
    "            if outcome == point:\n",
    "                pass_bankroll.append(pass_bankroll[-1]+1)\n",
    "                break\n",
    "            if outcome == 7:\n",
    "                pass_bankroll.append(pass_bankroll[-1]-1)\n",
    "                break\n",
    "\n"
   ]
  },
  {
   "cell_type": "code",
   "execution_count": 159,
   "id": "19ede621",
   "metadata": {},
   "outputs": [
    {
     "data": {
      "text/plain": [
       "[<matplotlib.lines.Line2D at 0x182082031f0>]"
      ]
     },
     "execution_count": 159,
     "metadata": {},
     "output_type": "execute_result"
    },
    {
     "data": {
      "image/png": "[encoded data removed]",
      "text/plain": [
       "<Figure size 432x288 with 2 Axes>"
      ]
     },
     "metadata": {
      "needs_background": "light"
     },
     "output_type": "display_data"
    }
   ],
   "source": [
    "#feel free to re-run this block multiply times, it will show you random ranges of 300 comeout rolls and the payroll changes.\n",
    "#this is done to show that there might be times where the PASS-LINE bet is winning, but on the longterm it always loses. \n",
    "fig, ax = plt.subplots(2)\n",
    "ax[0].plot(np.linspace(0,len(pass_bankroll)-1,len(pass_bankroll)), pass_bankroll, c='r')\n",
    "ax[0].plot(np.linspace(0, 30000,100), [100 for i in range(100)], c='b')\n",
    "random_start_point = randint(0, 29500)\n",
    "\n",
    "ax[1].plot(np.linspace(0, 300, 300), pass_bankroll[random_start_point:random_start_point+300], c='r')\n",
    "ax[1].plot(np.linspace(0, 300,10), [100 for i in range(10)], c='b')"
   ]
  },
  {
   "cell_type": "markdown",
   "id": "4a8916b4",
   "metadata": {},
   "source": [
    "We can see that the basic pass-line strategy is not effective over the long term, even though there might be times were it shows promise in the short term. Keep in mind, even if the bankroll is going up locally, we have not made any money until it exceeds the 100 threshold, represented by the blue line. \n",
    "\n",
    "Next we can explore the DONT-PASS bet, which is almost the opposite of the PASS-LINE bet. the DONT-PASS will pay 1:1 on rolls of 2 or 3, and lose on rolls of 7 or 11. The bet will push on rolls of 12. Should a (4, 5, 6, 8, 9, 10) be rolled, that value will be the point. Now the DONT-PASS line will win 1:1 should a 7 be rolled before the point. Should the point be rolled first, the bet will lose.\n",
    "\n",
    "I believe that the DONT-PASS bet is a critical element to winning in craps, because you get paid when the 7 rolls, unless it is rolled first. Since a 7 has the best odds of being rolled at any given time, if we can make it past the first roll, now probability is in our favor. "
   ]
  },
  {
   "cell_type": "code",
   "execution_count": 160,
   "id": "3435e830",
   "metadata": {},
   "outputs": [],
   "source": [
    "dp_bankroll = [100]\n",
    "i = 0\n",
    "while(i < len(trial_rolls)):\n",
    "    outcome = trial_rolls[i]\n",
    "    i+=1\n",
    "    #see if a losing value was roled\n",
    "    if outcome == 7 or outcome == 11:\n",
    "        dp_bankroll.append(dp_bankroll[-1]-1)\n",
    "        continue\n",
    "    #check a win\n",
    "    elif outcome == 2 or outcome == 3:\n",
    "        dp_bankroll.append(dp_bankroll[-1]+1)\n",
    "        continue\n",
    "    elif outcome == 12:\n",
    "        dp_bankroll.append(dp_bankroll[-1])\n",
    "    #else establish the point\n",
    "    else:\n",
    "        point = outcome\n",
    "        while True:\n",
    "            #just to avoid the case of running out of trial rolls, we will supplement them with ones generated here. this\n",
    "            #will only play a minor impact on the very last rolls, not more than 20 rolls. \n",
    "            if i >= len(trial_rolls):\n",
    "                outcome = sum((randint(1,6), randint(1,6)))\n",
    "            else:\n",
    "                outcome = trial_rolls[i]\n",
    "                i+=1\n",
    "                \n",
    "            if outcome == point:\n",
    "                dp_bankroll.append(dp_bankroll[-1]-1)\n",
    "                break\n",
    "            if outcome == 7:\n",
    "                dp_bankroll.append(dp_bankroll[-1]+1)\n",
    "                break\n",
    "\n"
   ]
  },
  {
   "cell_type": "code",
   "execution_count": 193,
   "id": "f7cd73ad",
   "metadata": {},
   "outputs": [
    {
     "data": {
      "text/plain": [
       "[<matplotlib.lines.Line2D at 0x18210963b80>]"
      ]
     },
     "execution_count": 193,
     "metadata": {},
     "output_type": "execute_result"
    },
    {
     "data": {
      "image/png": "[encoded data removed]",
      "text/plain": [
       "<Figure size 432x288 with 2 Axes>"
      ]
     },
     "metadata": {
      "needs_background": "light"
     },
     "output_type": "display_data"
    }
   ],
   "source": [
    "#feel free to re-run this block multiply times, it will show you random ranges of 300 comeout rolls and the payroll changes.\n",
    "fig, ax = plt.subplots(2)\n",
    "ax[0].plot(np.linspace(0,len(dp_bankroll)-1,len(dp_bankroll)), dp_bankroll, c='r')\n",
    "ax[0].plot(np.linspace(0, 30000,100), [100 for i in range(100)], c='b')\n",
    "random_start_point = randint(0, 29500)\n",
    "\n",
    "ax[1].plot(np.linspace(0, 300, 300), dp_bankroll[random_start_point:random_start_point+300], c='r')\n",
    "ax[1].plot(np.linspace(0, 300,10), [100 for i in range(10)], c='b')"
   ]
  },
  {
   "cell_type": "code",
   "execution_count": null,
   "id": "ad4c14a2",
   "metadata": {},
   "outputs": [],
   "source": []
  }
 ],
 "metadata": {
  "kernelspec": {
   "display_name": "Python 3 (ipykernel)",
   "language": "python",
   "name": "python3"
  },
  "language_info": {
   "codemirror_mode": {
    "name": "ipython",
    "version": 3
   },
   "file_extension": ".py",
   "mimetype": "text/x-python",
   "name": "python",
   "nbconvert_exporter": "python",
   "pygments_lexer": "ipython3",
   "version": "3.9.12"
  }
 },
 "nbformat": 4,
 "nbformat_minor": 5
}
